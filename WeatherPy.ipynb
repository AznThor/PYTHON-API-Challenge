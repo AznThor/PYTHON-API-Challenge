{
 "cells": [
  {
   "cell_type": "markdown",
   "metadata": {},
   "source": [
    "# WeatherPy\n",
    "----\n",
    "\n",
    "#### Note\n",
    "* Instructions have been included for each segment. You do not have to follow them exactly, but they are included to help you think through the steps."
   ]
  },
  {
   "cell_type": "code",
   "execution_count": 13,
   "metadata": {},
   "outputs": [
    {
     "name": "stdout",
     "output_type": "stream",
     "text": [
      "Requirement already satisfied: citipy in c:\\users\\darren\\anaconda3\\lib\\site-packages (0.0.5)\n",
      "Requirement already satisfied: kdtree>=0.12 in c:\\users\\darren\\anaconda3\\lib\\site-packages (from citipy) (0.16)\n",
      "Note: you may need to restart the kernel to use updated packages.\n"
     ]
    }
   ],
   "source": [
    "pip install citipy"
   ]
  },
  {
   "cell_type": "code",
   "execution_count": 14,
   "metadata": {
    "scrolled": true
   },
   "outputs": [],
   "source": [
    "# Dependencies and Setup\n",
    "import matplotlib.pyplot as plt\n",
    "import pandas as pd\n",
    "import numpy as np\n",
    "import requests\n",
    "import time\n",
    "from scipy.stats import linregress\n",
    "\n",
    "# Import API key\n",
    "from api_keys import weather_api_key\n",
    "\n",
    "# Incorporated citipy to determine city based on latitude and longitude\n",
    "from citipy import citipy\n",
    "\n",
    "# Output File (CSV)\n",
    "output_data_file = \"output_data/cities.csv\"\n",
    "\n",
    "# Range of latitudes and longitudes\n",
    "lat_range = (-90, 90)\n",
    "lng_range = (-180, 180)"
   ]
  },
  {
   "cell_type": "markdown",
   "metadata": {},
   "source": [
    "## Generate Cities List"
   ]
  },
  {
   "cell_type": "code",
   "execution_count": 15,
   "metadata": {},
   "outputs": [
    {
     "data": {
      "text/plain": [
       "596"
      ]
     },
     "execution_count": 15,
     "metadata": {},
     "output_type": "execute_result"
    }
   ],
   "source": [
    "# List for holding lat_lngs and cities\n",
    "lat_lngs = []\n",
    "cities = []\n",
    "\n",
    "lats = np.random.uniform(lat_range[0], lat_range[1], size=1500)\n",
    "lngs = np.random.uniform(lng_range[0], lng_range[1], size=1500)\n",
    "lat_lngs = zip(lats, lngs)\n",
    "\n",
    "for lat_lng in lat_lngs:\n",
    "    city = citipy.nearest_city(lat_lng[0], lat_lng[1]).city_name\n",
    "    \n",
    "    \n",
    "    if city not in cities:\n",
    "        cities.append(city)\n",
    "\n",
    "# Print the city count to confirm sufficient count\n",
    "len(cities)"
   ]
  },
  {
   "cell_type": "markdown",
   "metadata": {},
   "source": [
    "### Perform API Calls\n",
    "* Perform a weather check on each city using a series of successive API calls.\n",
    "* Include a print log of each city as it'sbeing processed (with the city number and city name).\n"
   ]
  },
  {
   "cell_type": "code",
   "execution_count": 17,
   "metadata": {
    "scrolled": true
   },
   "outputs": [
    {
     "name": "stdout",
     "output_type": "stream",
     "text": [
      "Processing Record 1 or Set 1 | huarmey\n",
      "Processing Record 2 or Set 1 | campbell river\n",
      "Processing Record 3 or Set 1 | minab\n",
      "Processing Record 4 or Set 1 | ndola\n",
      "Processing Record 5 or Set 1 | busselton\n",
      "Processing Record 6 or Set 1 | kodiak\n",
      "Processing Record 7 or Set 1 | tasiilaq\n",
      "Processing Record 8 or Set 1 | hilo\n",
      "Processing Record 9 or Set 1 | port alfred\n",
      "Processing Record 10 or Set 1 | la sarre\n",
      "City not found. Skipping...\n",
      "City not found. Skipping...\n",
      "Processing Record 11 or Set 1 | amasya\n",
      "Processing Record 12 or Set 1 | bud\n",
      "Processing Record 13 or Set 1 | vao\n",
      "Processing Record 14 or Set 1 | rikitea\n",
      "Processing Record 15 or Set 1 | esperance\n",
      "Processing Record 16 or Set 1 | buckeye\n",
      "Processing Record 17 or Set 1 | hermanus\n",
      "Processing Record 18 or Set 1 | mahebourg\n",
      "Processing Record 19 or Set 1 | camacha\n",
      "Processing Record 20 or Set 1 | ribeira grande\n",
      "Processing Record 21 or Set 1 | kapaa\n",
      "Processing Record 22 or Set 1 | butaritari\n",
      "Processing Record 23 or Set 1 | hobart\n",
      "Processing Record 24 or Set 1 | yar-sale\n",
      "Processing Record 25 or Set 1 | albany\n",
      "Processing Record 26 or Set 1 | katyuzhanka\n",
      "Processing Record 27 or Set 1 | clyde river\n",
      "Processing Record 28 or Set 1 | ancud\n",
      "Processing Record 29 or Set 1 | bluff\n",
      "Processing Record 30 or Set 1 | ashland\n",
      "Processing Record 31 or Set 1 | olafsvik\n",
      "Processing Record 32 or Set 1 | souillac\n",
      "Processing Record 33 or Set 1 | srednekolymsk\n",
      "Processing Record 34 or Set 1 | leningradskiy\n",
      "Processing Record 35 or Set 1 | mataura\n",
      "Processing Record 36 or Set 1 | atuona\n",
      "Processing Record 37 or Set 1 | ahuimanu\n",
      "Processing Record 38 or Set 1 | avarua\n",
      "Processing Record 39 or Set 1 | lumeje\n",
      "Processing Record 40 or Set 1 | vilhena\n",
      "Processing Record 41 or Set 1 | desaguadero\n",
      "Processing Record 42 or Set 1 | sao filipe\n",
      "Processing Record 43 or Set 1 | shreveport\n",
      "Processing Record 44 or Set 1 | kiama\n",
      "Processing Record 45 or Set 1 | bafoulabe\n",
      "City not found. Skipping...\n",
      "City not found. Skipping...\n",
      "Processing Record 46 or Set 1 | ornskoldsvik\n",
      "Processing Record 47 or Set 1 | ushuaia\n",
      "Processing Record 48 or Set 1 | jamestown\n",
      "Processing Record 49 or Set 1 | pirgos\n",
      "Processing Record 1 or Set 2 | port elizabeth\n",
      "Processing Record 2 or Set 2 | tomatlan\n",
      "Processing Record 3 or Set 2 | mariestad\n",
      "Processing Record 4 or Set 2 | iberia\n",
      "Processing Record 5 or Set 2 | khatanga\n",
      "Processing Record 6 or Set 2 | georgetown\n",
      "City not found. Skipping...\n",
      "Processing Record 7 or Set 2 | fort saint james\n",
      "Processing Record 8 or Set 2 | sotnikovo\n",
      "Processing Record 9 or Set 2 | lebu\n",
      "Processing Record 10 or Set 2 | beringovskiy\n",
      "Processing Record 11 or Set 2 | nanortalik\n",
      "Processing Record 12 or Set 2 | sinnamary\n",
      "Processing Record 13 or Set 2 | vaini\n",
      "Processing Record 14 or Set 2 | porto walter\n",
      "Processing Record 15 or Set 2 | cobija\n",
      "Processing Record 16 or Set 2 | mitsamiouli\n",
      "Processing Record 17 or Set 2 | pingliang\n",
      "Processing Record 18 or Set 2 | krasnoselkup\n",
      "Processing Record 19 or Set 2 | whitianga\n",
      "Processing Record 20 or Set 2 | punta arenas\n",
      "Processing Record 21 or Set 2 | ukiah\n",
      "Processing Record 22 or Set 2 | cherskiy\n",
      "City not found. Skipping...\n",
      "Processing Record 23 or Set 2 | harwich\n",
      "City not found. Skipping...\n",
      "Processing Record 24 or Set 2 | pevek\n",
      "Processing Record 25 or Set 2 | mar del plata\n",
      "Processing Record 26 or Set 2 | gimli\n",
      "Processing Record 27 or Set 2 | calama\n",
      "Processing Record 28 or Set 2 | san miguel\n",
      "City not found. Skipping...\n",
      "Processing Record 29 or Set 2 | aranos\n",
      "Processing Record 30 or Set 2 | preobrazheniye\n",
      "Processing Record 31 or Set 2 | new norfolk\n",
      "Processing Record 32 or Set 2 | isangel\n",
      "Processing Record 33 or Set 2 | constitucion\n",
      "Processing Record 34 or Set 2 | ponta do sol\n",
      "Processing Record 35 or Set 2 | yellowknife\n",
      "Processing Record 36 or Set 2 | buala\n",
      "City not found. Skipping...\n",
      "Processing Record 37 or Set 2 | ust-kuyga\n",
      "Processing Record 38 or Set 2 | puerto ayora\n",
      "Processing Record 39 or Set 2 | lumsden\n",
      "Processing Record 40 or Set 2 | juneau\n",
      "Processing Record 41 or Set 2 | sarkand\n",
      "Processing Record 42 or Set 2 | port-gentil\n",
      "Processing Record 43 or Set 2 | ugoofaaru\n",
      "Processing Record 44 or Set 2 | bredasdorp\n",
      "Processing Record 45 or Set 2 | husavik\n",
      "Processing Record 46 or Set 2 | catabola\n",
      "Processing Record 47 or Set 2 | tuktoyaktuk\n",
      "Processing Record 48 or Set 2 | hervey bay\n",
      "Processing Record 49 or Set 2 | linxia\n",
      "Processing Record 1 or Set 3 | margate\n",
      "Processing Record 2 or Set 3 | saskylakh\n",
      "Processing Record 3 or Set 3 | prince rupert\n",
      "Processing Record 4 or Set 3 | gap\n",
      "Processing Record 5 or Set 3 | yulara\n",
      "Processing Record 6 or Set 3 | lorengau\n",
      "Processing Record 7 or Set 3 | severo-kurilsk\n",
      "Processing Record 8 or Set 3 | boende\n",
      "Processing Record 9 or Set 3 | gat\n",
      "Processing Record 10 or Set 3 | hithadhoo\n",
      "Processing Record 11 or Set 3 | sola\n",
      "Processing Record 12 or Set 3 | san patricio\n",
      "Processing Record 13 or Set 3 | cidreira\n",
      "Processing Record 14 or Set 3 | mombetsu\n",
      "Processing Record 15 or Set 3 | pangody\n",
      "Processing Record 16 or Set 3 | inirida\n",
      "Processing Record 17 or Set 3 | miles city\n",
      "Processing Record 18 or Set 3 | xuddur\n",
      "Processing Record 19 or Set 3 | bethel\n",
      "Processing Record 20 or Set 3 | evensk\n",
      "Processing Record 21 or Set 3 | hammerfest\n",
      "Processing Record 22 or Set 3 | igrim\n",
      "Processing Record 23 or Set 3 | pemberton\n",
      "Processing Record 24 or Set 3 | konosha\n",
      "Processing Record 25 or Set 3 | geraldton\n",
      "Processing Record 26 or Set 3 | burgeo\n",
      "Processing Record 27 or Set 3 | bengkulu\n",
      "City not found. Skipping...\n",
      "Processing Record 28 or Set 3 | broome\n",
      "Processing Record 29 or Set 3 | wonthaggi\n",
      "Processing Record 30 or Set 3 | swan river\n",
      "Processing Record 31 or Set 3 | arraial do cabo\n",
      "Processing Record 32 or Set 3 | rabo de peixe\n",
      "Processing Record 33 or Set 3 | ondjiva\n",
      "Processing Record 34 or Set 3 | lavrentiya\n",
      "Processing Record 35 or Set 3 | nanakuli\n",
      "Processing Record 36 or Set 3 | bandarbeyla\n",
      "Processing Record 37 or Set 3 | makakilo city\n",
      "Processing Record 38 or Set 3 | raudeberg\n",
      "Processing Record 39 or Set 3 | hoshcha\n",
      "City not found. Skipping...\n",
      "Processing Record 40 or Set 3 | bac lieu\n",
      "Processing Record 41 or Set 3 | baiyin\n",
      "Processing Record 42 or Set 3 | nikolskoye\n",
      "Processing Record 43 or Set 3 | hofn\n",
      "Processing Record 44 or Set 3 | barrow\n",
      "Processing Record 45 or Set 3 | east london\n",
      "Processing Record 46 or Set 3 | aquiraz\n",
      "Processing Record 47 or Set 3 | waitati\n",
      "Processing Record 48 or Set 3 | odweyne\n",
      "City not found. Skipping...\n",
      "Processing Record 49 or Set 3 | cape town\n",
      "Processing Record 1 or Set 4 | togur\n",
      "City not found. Skipping...\n",
      "Processing Record 2 or Set 4 | cabo san lucas\n",
      "Processing Record 3 or Set 4 | luderitz\n",
      "Processing Record 4 or Set 4 | russellville\n",
      "Processing Record 5 or Set 4 | castro\n",
      "Processing Record 6 or Set 4 | ocean city\n",
      "City not found. Skipping...\n",
      "Processing Record 7 or Set 4 | carnarvon\n",
      "Processing Record 8 or Set 4 | tagusao\n",
      "City not found. Skipping...\n",
      "Processing Record 9 or Set 4 | kutum\n",
      "Processing Record 10 or Set 4 | moerai\n",
      "Processing Record 11 or Set 4 | caravelas\n",
      "Processing Record 12 or Set 4 | volovo\n",
      "Processing Record 13 or Set 4 | ayr\n",
      "Processing Record 14 or Set 4 | edd\n",
      "Processing Record 15 or Set 4 | sebinkarahisar\n",
      "Processing Record 16 or Set 4 | kavaratti\n",
      "Processing Record 17 or Set 4 | saldanha\n",
      "Processing Record 18 or Set 4 | maniitsoq\n",
      "Processing Record 19 or Set 4 | norman wells\n",
      "Processing Record 20 or Set 4 | djibo\n",
      "Processing Record 21 or Set 4 | vardo\n",
      "Processing Record 22 or Set 4 | parfino\n",
      "Processing Record 23 or Set 4 | fairbanks\n",
      "Processing Record 24 or Set 4 | kruisfontein\n",
      "Processing Record 25 or Set 4 | chokurdakh\n",
      "Processing Record 26 or Set 4 | talnakh\n",
      "Processing Record 27 or Set 4 | cumana\n",
      "Processing Record 28 or Set 4 | ambagarh chauki\n",
      "Processing Record 29 or Set 4 | great falls\n",
      "Processing Record 30 or Set 4 | sao joao da barra\n",
      "Processing Record 31 or Set 4 | tongchuan\n",
      "Processing Record 32 or Set 4 | zhigalovo\n",
      "City not found. Skipping...\n",
      "Processing Record 33 or Set 4 | kalianget\n",
      "Processing Record 34 or Set 4 | saint george\n",
      "Processing Record 35 or Set 4 | saint-philippe\n",
      "City not found. Skipping...\n",
      "Processing Record 36 or Set 4 | taoudenni\n",
      "Processing Record 37 or Set 4 | gatesville\n",
      "Processing Record 38 or Set 4 | kyzyl-suu\n",
      "Processing Record 39 or Set 4 | xichang\n",
      "Processing Record 40 or Set 4 | mugur-aksy\n"
     ]
    },
    {
     "name": "stdout",
     "output_type": "stream",
     "text": [
      "Processing Record 41 or Set 4 | awjilah\n",
      "Processing Record 42 or Set 4 | san cristobal\n",
      "Processing Record 43 or Set 4 | nguru\n",
      "Processing Record 44 or Set 4 | nome\n",
      "Processing Record 45 or Set 4 | loandjili\n",
      "Processing Record 46 or Set 4 | pisco\n",
      "Processing Record 47 or Set 4 | rio gallegos\n",
      "Processing Record 48 or Set 4 | deep river\n",
      "Processing Record 49 or Set 4 | yaan\n",
      "City not found. Skipping...\n",
      "Processing Record 1 or Set 5 | dingle\n",
      "Processing Record 2 or Set 5 | spornoye\n",
      "Processing Record 3 or Set 5 | yerbogachen\n",
      "Processing Record 4 or Set 5 | orocue\n",
      "Processing Record 5 or Set 5 | esmeraldas\n",
      "Processing Record 6 or Set 5 | pangnirtung\n",
      "Processing Record 7 or Set 5 | biltine\n",
      "Processing Record 8 or Set 5 | rudnichnyy\n",
      "Processing Record 9 or Set 5 | fort frances\n",
      "Processing Record 10 or Set 5 | ambilobe\n",
      "City not found. Skipping...\n",
      "Processing Record 11 or Set 5 | tiksi\n",
      "City not found. Skipping...\n",
      "Processing Record 12 or Set 5 | upernavik\n",
      "Processing Record 13 or Set 5 | haimen\n",
      "Processing Record 14 or Set 5 | trinidad\n",
      "Processing Record 15 or Set 5 | kumbhraj\n",
      "Processing Record 16 or Set 5 | southbridge\n",
      "Processing Record 17 or Set 5 | klaksvik\n",
      "Processing Record 18 or Set 5 | comala\n",
      "Processing Record 19 or Set 5 | la ronge\n",
      "Processing Record 20 or Set 5 | gallup\n",
      "Processing Record 21 or Set 5 | longyearbyen\n",
      "Processing Record 22 or Set 5 | solnechnyy\n",
      "Processing Record 23 or Set 5 | vila do maio\n",
      "Processing Record 24 or Set 5 | beyneu\n",
      "Processing Record 25 or Set 5 | port hawkesbury\n",
      "Processing Record 26 or Set 5 | caohe\n",
      "Processing Record 27 or Set 5 | lahad datu\n",
      "Processing Record 28 or Set 5 | dikson\n",
      "Processing Record 29 or Set 5 | pacific grove\n",
      "Processing Record 30 or Set 5 | kashi\n",
      "Processing Record 31 or Set 5 | sabzevar\n",
      "Processing Record 32 or Set 5 | san quintin\n",
      "Processing Record 33 or Set 5 | moose factory\n",
      "Processing Record 34 or Set 5 | sitka\n",
      "Processing Record 35 or Set 5 | ntcheu\n",
      "Processing Record 36 or Set 5 | fuyu\n",
      "Processing Record 37 or Set 5 | chuy\n",
      "Processing Record 38 or Set 5 | salinopolis\n",
      "Processing Record 39 or Set 5 | lindi\n",
      "Processing Record 40 or Set 5 | usinsk\n",
      "Processing Record 41 or Set 5 | paamiut\n",
      "Processing Record 42 or Set 5 | salalah\n",
      "Processing Record 43 or Set 5 | follonica\n",
      "Processing Record 44 or Set 5 | heiligenhafen\n",
      "City not found. Skipping...\n",
      "Processing Record 45 or Set 5 | gladstone\n",
      "Processing Record 46 or Set 5 | medina\n",
      "City not found. Skipping...\n",
      "Processing Record 47 or Set 5 | estelle\n",
      "Processing Record 48 or Set 5 | sembe\n",
      "Processing Record 49 or Set 5 | sobolevo\n",
      "City not found. Skipping...\n",
      "Processing Record 1 or Set 6 | katsuura\n",
      "Processing Record 2 or Set 6 | half moon bay\n",
      "Processing Record 3 or Set 6 | xining\n",
      "Processing Record 4 or Set 6 | thompson\n",
      "Processing Record 5 or Set 6 | nabire\n",
      "Processing Record 6 or Set 6 | hamilton\n",
      "City not found. Skipping...\n",
      "Processing Record 7 or Set 6 | woodward\n",
      "Processing Record 8 or Set 6 | tunceli\n",
      "Processing Record 9 or Set 6 | jishou\n",
      "Processing Record 10 or Set 6 | havre-saint-pierre\n",
      "Processing Record 11 or Set 6 | luganville\n",
      "City not found. Skipping...\n",
      "Processing Record 12 or Set 6 | mezen\n",
      "Processing Record 13 or Set 6 | talaya\n",
      "Processing Record 14 or Set 6 | tuatapere\n",
      "Processing Record 15 or Set 6 | valdez\n",
      "Processing Record 16 or Set 6 | khartoum\n",
      "Processing Record 17 or Set 6 | touros\n",
      "Processing Record 18 or Set 6 | khani\n",
      "Processing Record 19 or Set 6 | sioux lookout\n",
      "Processing Record 20 or Set 6 | lompoc\n",
      "Processing Record 21 or Set 6 | hualmay\n",
      "Processing Record 22 or Set 6 | iqaluit\n",
      "Processing Record 23 or Set 6 | ouallam\n",
      "Processing Record 24 or Set 6 | bambous virieux\n",
      "Processing Record 25 or Set 6 | batemans bay\n",
      "Processing Record 26 or Set 6 | benguela\n",
      "Processing Record 27 or Set 6 | malibu\n",
      "Processing Record 28 or Set 6 | ostrovnoy\n",
      "Processing Record 29 or Set 6 | asau\n",
      "Processing Record 30 or Set 6 | lata\n",
      "Processing Record 31 or Set 6 | ilulissat\n",
      "Processing Record 32 or Set 6 | portel\n",
      "Processing Record 33 or Set 6 | chulman\n",
      "Processing Record 34 or Set 6 | hami\n",
      "Processing Record 35 or Set 6 | xaltianguis\n",
      "Processing Record 36 or Set 6 | cayenne\n",
      "Processing Record 37 or Set 6 | sorland\n",
      "Processing Record 38 or Set 6 | qaanaaq\n",
      "Processing Record 39 or Set 6 | dhekiajuli\n",
      "Processing Record 40 or Set 6 | urumqi\n",
      "Processing Record 41 or Set 6 | rundu\n",
      "Processing Record 42 or Set 6 | airai\n",
      "Processing Record 43 or Set 6 | ketchikan\n",
      "Processing Record 44 or Set 6 | haines junction\n",
      "Processing Record 45 or Set 6 | belize\n",
      "Processing Record 46 or Set 6 | gidam\n",
      "Processing Record 47 or Set 6 | smithers\n",
      "Processing Record 48 or Set 6 | rawson\n",
      "Processing Record 49 or Set 6 | torbay\n",
      "Processing Record 1 or Set 7 | matay\n",
      "Processing Record 2 or Set 7 | kloulklubed\n",
      "Processing Record 3 or Set 7 | choya\n",
      "Processing Record 4 or Set 7 | chipata\n",
      "Processing Record 5 or Set 7 | strezhevoy\n",
      "Processing Record 6 or Set 7 | lakes entrance\n",
      "Processing Record 7 or Set 7 | dunedin\n",
      "Processing Record 8 or Set 7 | egvekinot\n",
      "City not found. Skipping...\n",
      "Processing Record 9 or Set 7 | dauriya\n",
      "Processing Record 10 or Set 7 | les cayes\n",
      "Processing Record 11 or Set 7 | texarkana\n",
      "Processing Record 12 or Set 7 | naze\n",
      "Processing Record 13 or Set 7 | fazilka\n",
      "Processing Record 14 or Set 7 | leshukonskoye\n",
      "Processing Record 15 or Set 7 | liverpool\n",
      "Processing Record 16 or Set 7 | tura\n",
      "Processing Record 17 or Set 7 | ust-shonosha\n",
      "Processing Record 18 or Set 7 | obama\n",
      "Processing Record 19 or Set 7 | bahia blanca\n",
      "City not found. Skipping...\n",
      "Processing Record 20 or Set 7 | ilhabela\n",
      "Processing Record 21 or Set 7 | redlands\n",
      "Processing Record 22 or Set 7 | laguna\n",
      "Processing Record 23 or Set 7 | sindor\n",
      "Processing Record 24 or Set 7 | dano\n",
      "Processing Record 25 or Set 7 | sisimiut\n",
      "Processing Record 26 or Set 7 | boa vista\n",
      "Processing Record 27 or Set 7 | takoradi\n",
      "Processing Record 28 or Set 7 | cutro\n",
      "Processing Record 29 or Set 7 | provideniya\n",
      "Processing Record 30 or Set 7 | los llanos de aridane\n",
      "Processing Record 31 or Set 7 | shubarshi\n",
      "Processing Record 32 or Set 7 | cabedelo\n",
      "Processing Record 33 or Set 7 | kaabong\n",
      "Processing Record 34 or Set 7 | puyo\n",
      "Processing Record 35 or Set 7 | raga\n",
      "Processing Record 36 or Set 7 | arezzo\n",
      "Processing Record 37 or Set 7 | morristown\n",
      "Processing Record 38 or Set 7 | mount gambier\n",
      "Processing Record 39 or Set 7 | chopinzinho\n",
      "Processing Record 40 or Set 7 | codrington\n",
      "Processing Record 41 or Set 7 | piacabucu\n",
      "Processing Record 42 or Set 7 | bathsheba\n",
      "City not found. Skipping...\n",
      "Processing Record 43 or Set 7 | suwannaphum\n",
      "Processing Record 44 or Set 7 | port hardy\n",
      "Processing Record 45 or Set 7 | turtas\n",
      "Processing Record 46 or Set 7 | puerto cabello\n",
      "Processing Record 47 or Set 7 | timizart\n",
      "Processing Record 48 or Set 7 | jiaocheng\n",
      "Processing Record 49 or Set 7 | singaparna\n",
      "Processing Record 1 or Set 8 | whitefish\n",
      "Processing Record 2 or Set 8 | port-cartier\n",
      "Processing Record 3 or Set 8 | port blair\n",
      "Processing Record 4 or Set 8 | machali\n",
      "Processing Record 5 or Set 8 | te anau\n",
      "City not found. Skipping...\n",
      "Processing Record 6 or Set 8 | guangshui\n",
      "Processing Record 7 or Set 8 | hay river\n",
      "Processing Record 8 or Set 8 | tulun\n",
      "Processing Record 9 or Set 8 | tessalit\n",
      "Processing Record 10 or Set 8 | broken hill\n",
      "Processing Record 11 or Set 8 | norden\n",
      "City not found. Skipping...\n",
      "Processing Record 12 or Set 8 | hasaki\n",
      "Processing Record 13 or Set 8 | guerrero negro\n",
      "Processing Record 14 or Set 8 | poum\n",
      "Processing Record 15 or Set 8 | altamira\n",
      "Processing Record 16 or Set 8 | kirovsk\n",
      "City not found. Skipping...\n",
      "Processing Record 17 or Set 8 | ferrol\n",
      "City not found. Skipping...\n",
      "Processing Record 18 or Set 8 | lima\n",
      "Processing Record 19 or Set 8 | rapid valley\n",
      "Processing Record 20 or Set 8 | scottsbluff\n",
      "Processing Record 21 or Set 8 | auki\n",
      "Processing Record 22 or Set 8 | bela\n",
      "Processing Record 23 or Set 8 | ayacucho\n",
      "Processing Record 24 or Set 8 | mehamn\n",
      "Processing Record 25 or Set 8 | faanui\n",
      "Processing Record 26 or Set 8 | tshikapa\n",
      "Processing Record 27 or Set 8 | yarada\n",
      "Processing Record 28 or Set 8 | lander\n",
      "Processing Record 29 or Set 8 | maracaju\n",
      "Processing Record 30 or Set 8 | palu\n",
      "Processing Record 31 or Set 8 | kaitangata\n",
      "Processing Record 32 or Set 8 | aklavik\n",
      "Processing Record 33 or Set 8 | oneonta\n",
      "Processing Record 34 or Set 8 | ayan\n",
      "Processing Record 35 or Set 8 | alofi\n"
     ]
    },
    {
     "name": "stdout",
     "output_type": "stream",
     "text": [
      "Processing Record 36 or Set 8 | lagoa\n",
      "Processing Record 37 or Set 8 | kahului\n",
      "Processing Record 38 or Set 8 | kismayo\n",
      "City not found. Skipping...\n",
      "Processing Record 39 or Set 8 | roald\n",
      "Processing Record 40 or Set 8 | chateaudun\n",
      "Processing Record 41 or Set 8 | dawei\n",
      "Processing Record 42 or Set 8 | icod de los vinos\n",
      "City not found. Skipping...\n",
      "Processing Record 43 or Set 8 | tsabong\n",
      "Processing Record 44 or Set 8 | faya\n",
      "City not found. Skipping...\n",
      "Processing Record 45 or Set 8 | ixtapa\n",
      "Processing Record 46 or Set 8 | hovd\n",
      "Processing Record 47 or Set 8 | goderich\n",
      "Processing Record 48 or Set 8 | itupiranga\n",
      "Processing Record 49 or Set 8 | ratnagiri\n",
      "Processing Record 1 or Set 9 | tazovskiy\n",
      "City not found. Skipping...\n",
      "Processing Record 2 or Set 9 | cap malheureux\n",
      "Processing Record 3 or Set 9 | santa ana\n",
      "Processing Record 4 or Set 9 | parfenyevo\n",
      "Processing Record 5 or Set 9 | djambala\n",
      "Processing Record 6 or Set 9 | stromness\n",
      "Processing Record 7 or Set 9 | artyom\n",
      "Processing Record 8 or Set 9 | wladyslawowo\n",
      "Processing Record 9 or Set 9 | kirakira\n",
      "Processing Record 10 or Set 9 | tahoua\n",
      "Processing Record 11 or Set 9 | padang\n",
      "Processing Record 12 or Set 9 | manzhouli\n",
      "City not found. Skipping...\n",
      "Processing Record 13 or Set 9 | luziania\n",
      "City not found. Skipping...\n",
      "Processing Record 14 or Set 9 | nago\n",
      "Processing Record 15 or Set 9 | port macquarie\n",
      "Processing Record 16 or Set 9 | coruripe\n",
      "Processing Record 17 or Set 9 | padre bernardo\n",
      "Processing Record 18 or Set 9 | raymondville\n",
      "Processing Record 19 or Set 9 | nioro\n",
      "Processing Record 20 or Set 9 | sosnovo-ozerskoye\n",
      "Processing Record 21 or Set 9 | arkhara\n",
      "Processing Record 22 or Set 9 | anadyr\n",
      "Processing Record 23 or Set 9 | zhangjiakou\n",
      "City not found. Skipping...\n",
      "Processing Record 24 or Set 9 | shambu\n",
      "City not found. Skipping...\n",
      "Processing Record 25 or Set 9 | arona\n",
      "Processing Record 26 or Set 9 | coahuayana\n",
      "Processing Record 27 or Set 9 | berezovyy\n",
      "Processing Record 28 or Set 9 | binga\n",
      "Processing Record 29 or Set 9 | gold coast\n",
      "Processing Record 30 or Set 9 | grindavik\n",
      "Processing Record 31 or Set 9 | narsaq\n",
      "Processing Record 32 or Set 9 | jinka\n",
      "Processing Record 33 or Set 9 | bemidji\n",
      "Processing Record 34 or Set 9 | callaguip\n",
      "Processing Record 35 or Set 9 | umba\n",
      "Processing Record 36 or Set 9 | coihaique\n",
      "Processing Record 37 or Set 9 | alakurtti\n",
      "Processing Record 38 or Set 9 | aksu\n",
      "Processing Record 39 or Set 9 | denpasar\n",
      "Processing Record 40 or Set 9 | churapcha\n",
      "Processing Record 41 or Set 9 | ambulu\n",
      "Processing Record 42 or Set 9 | cuxhaven\n",
      "Processing Record 43 or Set 9 | brookings\n",
      "Processing Record 44 or Set 9 | molina\n",
      "Processing Record 45 or Set 9 | victoria\n",
      "Processing Record 46 or Set 9 | santa maria\n",
      "Processing Record 47 or Set 9 | lubango\n",
      "Processing Record 48 or Set 9 | beira\n",
      "Processing Record 49 or Set 9 | taltal\n",
      "Processing Record 1 or Set 10 | dubbo\n",
      "Processing Record 2 or Set 10 | henties bay\n",
      "Processing Record 3 or Set 10 | saiha\n",
      "Processing Record 4 or Set 10 | weatherford\n",
      "Processing Record 5 or Set 10 | kavieng\n",
      "Processing Record 6 or Set 10 | aykhal\n",
      "Processing Record 7 or Set 10 | dogondoutchi\n",
      "Processing Record 8 or Set 10 | houma\n",
      "Processing Record 9 or Set 10 | omsukchan\n",
      "Processing Record 10 or Set 10 | elmira\n",
      "Processing Record 11 or Set 10 | tautira\n",
      "Processing Record 12 or Set 10 | jiazi\n",
      "Processing Record 13 or Set 10 | ruidoso\n",
      "Processing Record 14 or Set 10 | rawah\n",
      "Processing Record 15 or Set 10 | velingara\n",
      "Processing Record 16 or Set 10 | vanavara\n",
      "Processing Record 17 or Set 10 | pangai\n",
      "Processing Record 18 or Set 10 | merauke\n",
      "Processing Record 19 or Set 10 | narrabri\n",
      "Processing Record 20 or Set 10 | trairi\n",
      "Processing Record 21 or Set 10 | horodnytsya\n",
      "Processing Record 22 or Set 10 | augusto correa\n",
      "Processing Record 23 or Set 10 | vestmannaeyjar\n",
      "Processing Record 24 or Set 10 | avera\n",
      "Processing Record 25 or Set 10 | altay\n",
      "Processing Record 26 or Set 10 | cochrane\n",
      "Processing Record 27 or Set 10 | lipin bor\n",
      "Processing Record 28 or Set 10 | dali\n",
      "Processing Record 29 or Set 10 | susanville\n",
      "Processing Record 30 or Set 10 | bambanglipuro\n",
      "Processing Record 31 or Set 10 | havelock\n",
      "Processing Record 32 or Set 10 | manyana\n",
      "Processing Record 33 or Set 10 | coos bay\n",
      "Processing Record 34 or Set 10 | jawhar\n",
      "Processing Record 35 or Set 10 | berlevag\n",
      "Processing Record 36 or Set 10 | moche\n",
      "Processing Record 37 or Set 10 | chiman\n",
      "Processing Record 38 or Set 10 | huangmei\n",
      "Processing Record 39 or Set 10 | sheregesh\n",
      "City not found. Skipping...\n",
      "Processing Record 40 or Set 10 | kamaishi\n",
      "Processing Record 41 or Set 10 | natal\n",
      "City not found. Skipping...\n",
      "Processing Record 42 or Set 10 | korla\n",
      "Processing Record 43 or Set 10 | buraydah\n",
      "Processing Record 44 or Set 10 | nishihara\n",
      "Processing Record 45 or Set 10 | kasangulu\n",
      "Processing Record 46 or Set 10 | bayan\n",
      "Processing Record 47 or Set 10 | boca del monte\n",
      "Processing Record 48 or Set 10 | ouesso\n",
      "Processing Record 49 or Set 10 | coari\n",
      "Processing Record 1 or Set 11 | harper\n",
      "Processing Record 2 or Set 11 | zabid\n",
      "Processing Record 3 or Set 11 | muros\n",
      "Processing Record 4 or Set 11 | namibe\n",
      "Processing Record 5 or Set 11 | vila\n",
      "Processing Record 6 or Set 11 | olga\n",
      "Processing Record 7 or Set 11 | shenjiamen\n",
      "Processing Record 8 or Set 11 | magistralnyy\n",
      "Processing Record 9 or Set 11 | sibolga\n",
      "Processing Record 10 or Set 11 | alice springs\n",
      "Processing Record 11 or Set 11 | kuruman\n",
      "Processing Record 12 or Set 11 | atar\n",
      "Processing Record 13 or Set 11 | ous\n",
      "Processing Record 14 or Set 11 | neiafu\n",
      "Processing Record 15 or Set 11 | sur\n",
      "Processing Record 16 or Set 11 | sao jose da coroa grande\n",
      "Processing Record 17 or Set 11 | meulaboh\n",
      "Processing Record 18 or Set 11 | zarubino\n",
      "Processing Record 19 or Set 11 | saint-georges\n",
      "Processing Record 20 or Set 11 | tarrafal\n",
      "Processing Record 21 or Set 11 | comodoro rivadavia\n",
      "Processing Record 22 or Set 11 | ahipara\n",
      "Processing Record 23 or Set 11 | mandalgovi\n",
      "Processing Record 24 or Set 11 | lixourion\n",
      "Processing Record 25 or Set 11 | whitehorse\n",
      "Processing Record 26 or Set 11 | cuenca\n",
      "Processing Record 27 or Set 11 | beisfjord\n",
      "Processing Record 28 or Set 11 | ikongo\n",
      "Processing Record 29 or Set 11 | naudero\n",
      "Processing Record 30 or Set 11 | kununurra\n",
      "Processing Record 31 or Set 11 | saint-augustin\n",
      "Processing Record 32 or Set 11 | westport\n",
      "Processing Record 33 or Set 11 | nemuro\n",
      "Processing Record 34 or Set 11 | seoul\n",
      "Processing Record 35 or Set 11 | nepa nagar\n",
      "Processing Record 36 or Set 11 | chifeng\n",
      "Processing Record 37 or Set 11 | bazarnyye mataki\n",
      "Processing Record 38 or Set 11 | eyemouth\n",
      "City not found. Skipping...\n",
      "Processing Record 39 or Set 11 | chiredzi\n",
      "Processing Record 40 or Set 11 | takaka\n",
      "Processing Record 41 or Set 11 | port lincoln\n",
      "Processing Record 42 or Set 11 | ust-ishim\n",
      "Processing Record 43 or Set 11 | grand gaube\n",
      "Processing Record 44 or Set 11 | najran\n",
      "Processing Record 45 or Set 11 | puerto escondido\n",
      "Processing Record 46 or Set 11 | dinard\n",
      "Processing Record 47 or Set 11 | mount isa\n",
      "Processing Record 48 or Set 11 | skjervoy\n",
      "Processing Record 49 or Set 11 | naryan-mar\n",
      "Processing Record 1 or Set 12 | belyy yar\n",
      "Processing Record 2 or Set 12 | talara\n",
      "Processing Record 3 or Set 12 | manado\n",
      "Processing Record 4 or Set 12 | flinders\n",
      "Processing Record 5 or Set 12 | coquimbo\n",
      "Processing Record 6 or Set 12 | tucuman\n",
      "City not found. Skipping...\n",
      "City not found. Skipping...\n",
      "Processing Record 7 or Set 12 | lianran\n",
      "Processing Record 8 or Set 12 | mecca\n",
      "Processing Record 9 or Set 12 | belle glade\n",
      "Processing Record 10 or Set 12 | carolina\n",
      "Processing Record 11 or Set 12 | saint-joseph\n",
      "Processing Record 12 or Set 12 | necochea\n",
      "------------------------------\n",
      "Data Retrieval Complete\n",
      "------------------------------\n"
     ]
    }
   ],
   "source": [
    "#starting URL\n",
    "url = f\"http://api.openweathermap.org/data/2.5/weather?units=imperial&APPID={weather_api_key}&q=\"\n",
    "\n",
    "#units\n",
    "units = \"imperial\"\n",
    "\n",
    "CITIES = []\n",
    "Latitude = []\n",
    "Longitude = []\n",
    "Temperature = []\n",
    "Humidity = []\n",
    "Cloudiness = []\n",
    "Windspeed = []\n",
    "Country = []\n",
    "Date = []\n",
    "\n",
    "\n",
    "records = 0\n",
    "sets = 1\n",
    "\n",
    "# Loop through each cities and populate info into respective lists\n",
    "for city in cities:\n",
    "    response = requests.get(url + city).json()\n",
    "    try:\n",
    "        Latitude.append(response['coord']['lat'])\n",
    "        Longitude.append(response['coord']['lon'])\n",
    "        Temperature.append(response['main']['temp_max'])\n",
    "        Humidity.append(response['main']['humidity'])\n",
    "        Cloudiness.append(response['clouds']['all'])\n",
    "        Windspeed.append(response['wind']['speed'])\n",
    "        Country.append(response['sys']['country'])\n",
    "        Date.append(response['dt'])\n",
    "        if records > 48:\n",
    "            records = 1\n",
    "            sets += 1\n",
    "            CITIES.append(city)\n",
    "        else:\n",
    "            records += 1\n",
    "            CITIES.append(city)\n",
    "        print(f\"Processing Record {records} or Set {sets} | {city}\")\n",
    "    except:\n",
    "        print(f\"City not found. Skipping...\")\n",
    "print('''------------------------------\n",
    "Data Retrieval Complete\n",
    "------------------------------''')\n"
   ]
  },
  {
   "cell_type": "markdown",
   "metadata": {},
   "source": [
    "### Convert Raw Data to DataFrame\n",
    "* Export the city data into a .csv.\n",
    "* Display the DataFrame"
   ]
  },
  {
   "cell_type": "code",
   "execution_count": 32,
   "metadata": {},
   "outputs": [
    {
     "data": {
      "text/html": [
       "<div>\n",
       "<style scoped>\n",
       "    .dataframe tbody tr th:only-of-type {\n",
       "        vertical-align: middle;\n",
       "    }\n",
       "\n",
       "    .dataframe tbody tr th {\n",
       "        vertical-align: top;\n",
       "    }\n",
       "\n",
       "    .dataframe thead th {\n",
       "        text-align: right;\n",
       "    }\n",
       "</style>\n",
       "<table border=\"1\" class=\"dataframe\">\n",
       "  <thead>\n",
       "    <tr style=\"text-align: right;\">\n",
       "      <th></th>\n",
       "      <th>CITIES</th>\n",
       "      <th>Latitude</th>\n",
       "      <th>Longitude</th>\n",
       "      <th>Temperature</th>\n",
       "      <th>Humidity</th>\n",
       "      <th>Cloudiness</th>\n",
       "      <th>Windspeed</th>\n",
       "      <th>Country</th>\n",
       "      <th>Date</th>\n",
       "    </tr>\n",
       "  </thead>\n",
       "  <tbody>\n",
       "    <tr>\n",
       "      <th>0</th>\n",
       "      <td>huarmey</td>\n",
       "      <td>-10.0681</td>\n",
       "      <td>-78.1522</td>\n",
       "      <td>65.73</td>\n",
       "      <td>88</td>\n",
       "      <td>7</td>\n",
       "      <td>8.16</td>\n",
       "      <td>PE</td>\n",
       "      <td>1620967710</td>\n",
       "    </tr>\n",
       "    <tr>\n",
       "      <th>1</th>\n",
       "      <td>campbell river</td>\n",
       "      <td>50.0163</td>\n",
       "      <td>-125.2446</td>\n",
       "      <td>60.01</td>\n",
       "      <td>72</td>\n",
       "      <td>20</td>\n",
       "      <td>4.61</td>\n",
       "      <td>CA</td>\n",
       "      <td>1620967711</td>\n",
       "    </tr>\n",
       "    <tr>\n",
       "      <th>2</th>\n",
       "      <td>minab</td>\n",
       "      <td>27.1467</td>\n",
       "      <td>57.0801</td>\n",
       "      <td>96.80</td>\n",
       "      <td>26</td>\n",
       "      <td>20</td>\n",
       "      <td>4.61</td>\n",
       "      <td>IR</td>\n",
       "      <td>1620967711</td>\n",
       "    </tr>\n",
       "    <tr>\n",
       "      <th>3</th>\n",
       "      <td>ndola</td>\n",
       "      <td>-12.9587</td>\n",
       "      <td>28.6366</td>\n",
       "      <td>55.99</td>\n",
       "      <td>83</td>\n",
       "      <td>0</td>\n",
       "      <td>3.00</td>\n",
       "      <td>ZM</td>\n",
       "      <td>1620967711</td>\n",
       "    </tr>\n",
       "    <tr>\n",
       "      <th>4</th>\n",
       "      <td>busselton</td>\n",
       "      <td>-33.6500</td>\n",
       "      <td>115.3333</td>\n",
       "      <td>62.01</td>\n",
       "      <td>70</td>\n",
       "      <td>100</td>\n",
       "      <td>5.99</td>\n",
       "      <td>AU</td>\n",
       "      <td>1620967712</td>\n",
       "    </tr>\n",
       "    <tr>\n",
       "      <th>5</th>\n",
       "      <td>kodiak</td>\n",
       "      <td>57.7900</td>\n",
       "      <td>-152.4072</td>\n",
       "      <td>44.60</td>\n",
       "      <td>76</td>\n",
       "      <td>90</td>\n",
       "      <td>8.05</td>\n",
       "      <td>US</td>\n",
       "      <td>1620967712</td>\n",
       "    </tr>\n",
       "    <tr>\n",
       "      <th>6</th>\n",
       "      <td>tasiilaq</td>\n",
       "      <td>65.6145</td>\n",
       "      <td>-37.6368</td>\n",
       "      <td>26.60</td>\n",
       "      <td>68</td>\n",
       "      <td>10</td>\n",
       "      <td>3.44</td>\n",
       "      <td>GL</td>\n",
       "      <td>1620967713</td>\n",
       "    </tr>\n",
       "    <tr>\n",
       "      <th>7</th>\n",
       "      <td>hilo</td>\n",
       "      <td>19.7297</td>\n",
       "      <td>-155.0900</td>\n",
       "      <td>78.80</td>\n",
       "      <td>65</td>\n",
       "      <td>75</td>\n",
       "      <td>6.91</td>\n",
       "      <td>US</td>\n",
       "      <td>1620967629</td>\n",
       "    </tr>\n",
       "    <tr>\n",
       "      <th>8</th>\n",
       "      <td>port alfred</td>\n",
       "      <td>-33.5906</td>\n",
       "      <td>26.8910</td>\n",
       "      <td>59.59</td>\n",
       "      <td>80</td>\n",
       "      <td>1</td>\n",
       "      <td>4.59</td>\n",
       "      <td>ZA</td>\n",
       "      <td>1620967534</td>\n",
       "    </tr>\n",
       "    <tr>\n",
       "      <th>9</th>\n",
       "      <td>la sarre</td>\n",
       "      <td>48.8002</td>\n",
       "      <td>-79.1996</td>\n",
       "      <td>46.89</td>\n",
       "      <td>56</td>\n",
       "      <td>21</td>\n",
       "      <td>2.06</td>\n",
       "      <td>CA</td>\n",
       "      <td>1620967713</td>\n",
       "    </tr>\n",
       "    <tr>\n",
       "      <th>10</th>\n",
       "      <td>amasya</td>\n",
       "      <td>40.6667</td>\n",
       "      <td>35.8333</td>\n",
       "      <td>62.60</td>\n",
       "      <td>59</td>\n",
       "      <td>0</td>\n",
       "      <td>3.18</td>\n",
       "      <td>TR</td>\n",
       "      <td>1620967714</td>\n",
       "    </tr>\n",
       "    <tr>\n",
       "      <th>11</th>\n",
       "      <td>bud</td>\n",
       "      <td>39.4470</td>\n",
       "      <td>-86.1758</td>\n",
       "      <td>52.00</td>\n",
       "      <td>65</td>\n",
       "      <td>8</td>\n",
       "      <td>3.22</td>\n",
       "      <td>US</td>\n",
       "      <td>1620967602</td>\n",
       "    </tr>\n",
       "    <tr>\n",
       "      <th>12</th>\n",
       "      <td>vao</td>\n",
       "      <td>-22.6667</td>\n",
       "      <td>167.4833</td>\n",
       "      <td>75.96</td>\n",
       "      <td>79</td>\n",
       "      <td>0</td>\n",
       "      <td>9.84</td>\n",
       "      <td>NC</td>\n",
       "      <td>1620967550</td>\n",
       "    </tr>\n",
       "    <tr>\n",
       "      <th>13</th>\n",
       "      <td>rikitea</td>\n",
       "      <td>-23.1203</td>\n",
       "      <td>-134.9692</td>\n",
       "      <td>75.78</td>\n",
       "      <td>76</td>\n",
       "      <td>93</td>\n",
       "      <td>11.65</td>\n",
       "      <td>PF</td>\n",
       "      <td>1620967715</td>\n",
       "    </tr>\n",
       "    <tr>\n",
       "      <th>14</th>\n",
       "      <td>esperance</td>\n",
       "      <td>-33.8667</td>\n",
       "      <td>121.9000</td>\n",
       "      <td>60.80</td>\n",
       "      <td>77</td>\n",
       "      <td>90</td>\n",
       "      <td>8.05</td>\n",
       "      <td>AU</td>\n",
       "      <td>1620967715</td>\n",
       "    </tr>\n",
       "    <tr>\n",
       "      <th>15</th>\n",
       "      <td>buckeye</td>\n",
       "      <td>33.3703</td>\n",
       "      <td>-112.5838</td>\n",
       "      <td>82.99</td>\n",
       "      <td>7</td>\n",
       "      <td>0</td>\n",
       "      <td>8.05</td>\n",
       "      <td>US</td>\n",
       "      <td>1620967716</td>\n",
       "    </tr>\n",
       "    <tr>\n",
       "      <th>16</th>\n",
       "      <td>hermanus</td>\n",
       "      <td>-34.4187</td>\n",
       "      <td>19.2345</td>\n",
       "      <td>54.00</td>\n",
       "      <td>91</td>\n",
       "      <td>44</td>\n",
       "      <td>3.00</td>\n",
       "      <td>ZA</td>\n",
       "      <td>1620967716</td>\n",
       "    </tr>\n",
       "    <tr>\n",
       "      <th>17</th>\n",
       "      <td>mahebourg</td>\n",
       "      <td>-20.4081</td>\n",
       "      <td>57.7000</td>\n",
       "      <td>78.80</td>\n",
       "      <td>73</td>\n",
       "      <td>20</td>\n",
       "      <td>12.66</td>\n",
       "      <td>MU</td>\n",
       "      <td>1620967586</td>\n",
       "    </tr>\n",
       "    <tr>\n",
       "      <th>18</th>\n",
       "      <td>camacha</td>\n",
       "      <td>33.0833</td>\n",
       "      <td>-16.3333</td>\n",
       "      <td>64.40</td>\n",
       "      <td>72</td>\n",
       "      <td>20</td>\n",
       "      <td>8.05</td>\n",
       "      <td>PT</td>\n",
       "      <td>1620967717</td>\n",
       "    </tr>\n",
       "    <tr>\n",
       "      <th>19</th>\n",
       "      <td>ribeira grande</td>\n",
       "      <td>38.5167</td>\n",
       "      <td>-28.7000</td>\n",
       "      <td>64.09</td>\n",
       "      <td>94</td>\n",
       "      <td>80</td>\n",
       "      <td>11.86</td>\n",
       "      <td>PT</td>\n",
       "      <td>1620967717</td>\n",
       "    </tr>\n",
       "    <tr>\n",
       "      <th>20</th>\n",
       "      <td>kapaa</td>\n",
       "      <td>22.0752</td>\n",
       "      <td>-159.3190</td>\n",
       "      <td>75.20</td>\n",
       "      <td>78</td>\n",
       "      <td>75</td>\n",
       "      <td>18.41</td>\n",
       "      <td>US</td>\n",
       "      <td>1620967519</td>\n",
       "    </tr>\n",
       "    <tr>\n",
       "      <th>21</th>\n",
       "      <td>butaritari</td>\n",
       "      <td>3.0707</td>\n",
       "      <td>172.7902</td>\n",
       "      <td>81.79</td>\n",
       "      <td>80</td>\n",
       "      <td>71</td>\n",
       "      <td>9.64</td>\n",
       "      <td>KI</td>\n",
       "      <td>1620967718</td>\n",
       "    </tr>\n",
       "    <tr>\n",
       "      <th>22</th>\n",
       "      <td>hobart</td>\n",
       "      <td>-42.8794</td>\n",
       "      <td>147.3294</td>\n",
       "      <td>50.00</td>\n",
       "      <td>57</td>\n",
       "      <td>75</td>\n",
       "      <td>17.27</td>\n",
       "      <td>AU</td>\n",
       "      <td>1620967715</td>\n",
       "    </tr>\n",
       "    <tr>\n",
       "      <th>23</th>\n",
       "      <td>yar-sale</td>\n",
       "      <td>66.8333</td>\n",
       "      <td>70.8333</td>\n",
       "      <td>35.29</td>\n",
       "      <td>98</td>\n",
       "      <td>100</td>\n",
       "      <td>6.87</td>\n",
       "      <td>RU</td>\n",
       "      <td>1620967718</td>\n",
       "    </tr>\n",
       "    <tr>\n",
       "      <th>24</th>\n",
       "      <td>albany</td>\n",
       "      <td>42.6001</td>\n",
       "      <td>-73.9662</td>\n",
       "      <td>51.01</td>\n",
       "      <td>94</td>\n",
       "      <td>6</td>\n",
       "      <td>4.88</td>\n",
       "      <td>US</td>\n",
       "      <td>1620967619</td>\n",
       "    </tr>\n",
       "  </tbody>\n",
       "</table>\n",
       "</div>"
      ],
      "text/plain": [
       "            CITIES  Latitude  Longitude  Temperature  Humidity  Cloudiness  \\\n",
       "0          huarmey  -10.0681   -78.1522        65.73        88           7   \n",
       "1   campbell river   50.0163  -125.2446        60.01        72          20   \n",
       "2            minab   27.1467    57.0801        96.80        26          20   \n",
       "3            ndola  -12.9587    28.6366        55.99        83           0   \n",
       "4        busselton  -33.6500   115.3333        62.01        70         100   \n",
       "5           kodiak   57.7900  -152.4072        44.60        76          90   \n",
       "6         tasiilaq   65.6145   -37.6368        26.60        68          10   \n",
       "7             hilo   19.7297  -155.0900        78.80        65          75   \n",
       "8      port alfred  -33.5906    26.8910        59.59        80           1   \n",
       "9         la sarre   48.8002   -79.1996        46.89        56          21   \n",
       "10          amasya   40.6667    35.8333        62.60        59           0   \n",
       "11             bud   39.4470   -86.1758        52.00        65           8   \n",
       "12             vao  -22.6667   167.4833        75.96        79           0   \n",
       "13         rikitea  -23.1203  -134.9692        75.78        76          93   \n",
       "14       esperance  -33.8667   121.9000        60.80        77          90   \n",
       "15         buckeye   33.3703  -112.5838        82.99         7           0   \n",
       "16        hermanus  -34.4187    19.2345        54.00        91          44   \n",
       "17       mahebourg  -20.4081    57.7000        78.80        73          20   \n",
       "18         camacha   33.0833   -16.3333        64.40        72          20   \n",
       "19  ribeira grande   38.5167   -28.7000        64.09        94          80   \n",
       "20           kapaa   22.0752  -159.3190        75.20        78          75   \n",
       "21      butaritari    3.0707   172.7902        81.79        80          71   \n",
       "22          hobart  -42.8794   147.3294        50.00        57          75   \n",
       "23        yar-sale   66.8333    70.8333        35.29        98         100   \n",
       "24          albany   42.6001   -73.9662        51.01        94           6   \n",
       "\n",
       "    Windspeed Country        Date  \n",
       "0        8.16      PE  1620967710  \n",
       "1        4.61      CA  1620967711  \n",
       "2        4.61      IR  1620967711  \n",
       "3        3.00      ZM  1620967711  \n",
       "4        5.99      AU  1620967712  \n",
       "5        8.05      US  1620967712  \n",
       "6        3.44      GL  1620967713  \n",
       "7        6.91      US  1620967629  \n",
       "8        4.59      ZA  1620967534  \n",
       "9        2.06      CA  1620967713  \n",
       "10       3.18      TR  1620967714  \n",
       "11       3.22      US  1620967602  \n",
       "12       9.84      NC  1620967550  \n",
       "13      11.65      PF  1620967715  \n",
       "14       8.05      AU  1620967715  \n",
       "15       8.05      US  1620967716  \n",
       "16       3.00      ZA  1620967716  \n",
       "17      12.66      MU  1620967586  \n",
       "18       8.05      PT  1620967717  \n",
       "19      11.86      PT  1620967717  \n",
       "20      18.41      US  1620967519  \n",
       "21       9.64      KI  1620967718  \n",
       "22      17.27      AU  1620967715  \n",
       "23       6.87      RU  1620967718  \n",
       "24       4.88      US  1620967619  "
      ]
     },
     "execution_count": 32,
     "metadata": {},
     "output_type": "execute_result"
    }
   ],
   "source": [
    "# Dataframe \n",
    "\n",
    "Weather_Set_Up = ({'CITIES': CITIES,'Latitude': Latitude,'Longitude': Longitude,'Temperature': Temperature,'Humidity': Humidity, 'Cloudiness': Cloudiness,\n",
    "'Windspeed': Windspeed,'Country': Country,'Date': Date})\n",
    "Df_WeatherStats = pd.DataFrame(Weather_Set_Up)\n",
    "Df_WeatherStats.head(25)"
   ]
  },
  {
   "cell_type": "code",
   "execution_count": 35,
   "metadata": {},
   "outputs": [
    {
     "data": {
      "text/html": [
       "<div>\n",
       "<style scoped>\n",
       "    .dataframe tbody tr th:only-of-type {\n",
       "        vertical-align: middle;\n",
       "    }\n",
       "\n",
       "    .dataframe tbody tr th {\n",
       "        vertical-align: top;\n",
       "    }\n",
       "\n",
       "    .dataframe thead th {\n",
       "        text-align: right;\n",
       "    }\n",
       "</style>\n",
       "<table border=\"1\" class=\"dataframe\">\n",
       "  <thead>\n",
       "    <tr style=\"text-align: right;\">\n",
       "      <th></th>\n",
       "      <th>Latitude</th>\n",
       "      <th>Longitude</th>\n",
       "      <th>Temperature</th>\n",
       "      <th>Humidity</th>\n",
       "      <th>Cloudiness</th>\n",
       "      <th>Windspeed</th>\n",
       "      <th>Date</th>\n",
       "    </tr>\n",
       "  </thead>\n",
       "  <tbody>\n",
       "    <tr>\n",
       "      <th>count</th>\n",
       "      <td>551.000000</td>\n",
       "      <td>551.000000</td>\n",
       "      <td>551.000000</td>\n",
       "      <td>551.000000</td>\n",
       "      <td>551.000000</td>\n",
       "      <td>551.000000</td>\n",
       "      <td>5.510000e+02</td>\n",
       "    </tr>\n",
       "    <tr>\n",
       "      <th>mean</th>\n",
       "      <td>21.083412</td>\n",
       "      <td>12.056660</td>\n",
       "      <td>62.764537</td>\n",
       "      <td>67.822142</td>\n",
       "      <td>51.709619</td>\n",
       "      <td>7.628439</td>\n",
       "      <td>1.620968e+09</td>\n",
       "    </tr>\n",
       "    <tr>\n",
       "      <th>std</th>\n",
       "      <td>33.729911</td>\n",
       "      <td>92.853085</td>\n",
       "      <td>17.143965</td>\n",
       "      <td>21.805778</td>\n",
       "      <td>39.298150</td>\n",
       "      <td>5.026837</td>\n",
       "      <td>1.000705e+02</td>\n",
       "    </tr>\n",
       "    <tr>\n",
       "      <th>min</th>\n",
       "      <td>-54.800000</td>\n",
       "      <td>-179.166700</td>\n",
       "      <td>17.600000</td>\n",
       "      <td>7.000000</td>\n",
       "      <td>0.000000</td>\n",
       "      <td>0.490000</td>\n",
       "      <td>1.620968e+09</td>\n",
       "    </tr>\n",
       "    <tr>\n",
       "      <th>25%</th>\n",
       "      <td>-8.219850</td>\n",
       "      <td>-69.129900</td>\n",
       "      <td>50.450000</td>\n",
       "      <td>55.000000</td>\n",
       "      <td>6.000000</td>\n",
       "      <td>3.835000</td>\n",
       "      <td>1.620968e+09</td>\n",
       "    </tr>\n",
       "    <tr>\n",
       "      <th>50%</th>\n",
       "      <td>26.684500</td>\n",
       "      <td>18.400900</td>\n",
       "      <td>62.600000</td>\n",
       "      <td>72.000000</td>\n",
       "      <td>63.000000</td>\n",
       "      <td>6.870000</td>\n",
       "      <td>1.620968e+09</td>\n",
       "    </tr>\n",
       "    <tr>\n",
       "      <th>75%</th>\n",
       "      <td>50.024850</td>\n",
       "      <td>92.625000</td>\n",
       "      <td>76.930000</td>\n",
       "      <td>85.000000</td>\n",
       "      <td>90.000000</td>\n",
       "      <td>10.335000</td>\n",
       "      <td>1.620968e+09</td>\n",
       "    </tr>\n",
       "    <tr>\n",
       "      <th>max</th>\n",
       "      <td>78.218600</td>\n",
       "      <td>179.316700</td>\n",
       "      <td>98.730000</td>\n",
       "      <td>100.000000</td>\n",
       "      <td>100.000000</td>\n",
       "      <td>36.350000</td>\n",
       "      <td>1.620968e+09</td>\n",
       "    </tr>\n",
       "  </tbody>\n",
       "</table>\n",
       "</div>"
      ],
      "text/plain": [
       "         Latitude   Longitude  Temperature    Humidity  Cloudiness  \\\n",
       "count  551.000000  551.000000   551.000000  551.000000  551.000000   \n",
       "mean    21.083412   12.056660    62.764537   67.822142   51.709619   \n",
       "std     33.729911   92.853085    17.143965   21.805778   39.298150   \n",
       "min    -54.800000 -179.166700    17.600000    7.000000    0.000000   \n",
       "25%     -8.219850  -69.129900    50.450000   55.000000    6.000000   \n",
       "50%     26.684500   18.400900    62.600000   72.000000   63.000000   \n",
       "75%     50.024850   92.625000    76.930000   85.000000   90.000000   \n",
       "max     78.218600  179.316700    98.730000  100.000000  100.000000   \n",
       "\n",
       "        Windspeed          Date  \n",
       "count  551.000000  5.510000e+02  \n",
       "mean     7.628439  1.620968e+09  \n",
       "std      5.026837  1.000705e+02  \n",
       "min      0.490000  1.620968e+09  \n",
       "25%      3.835000  1.620968e+09  \n",
       "50%      6.870000  1.620968e+09  \n",
       "75%     10.335000  1.620968e+09  \n",
       "max     36.350000  1.620968e+09  "
      ]
     },
     "execution_count": 35,
     "metadata": {},
     "output_type": "execute_result"
    }
   ],
   "source": [
    "Df_WeatherStats.describe()"
   ]
  },
  {
   "cell_type": "markdown",
   "metadata": {},
   "source": [
    "## Inspect the data and remove the cities where the humidity > 100%.\n",
    "----\n",
    "Skip this step if there are no cities that have humidity > 100%. "
   ]
  },
  {
   "cell_type": "code",
   "execution_count": 36,
   "metadata": {},
   "outputs": [],
   "source": []
  },
  {
   "cell_type": "code",
   "execution_count": 6,
   "metadata": {},
   "outputs": [],
   "source": [
    "#  Get the indices of cities that have humidity over 100%.\n"
   ]
  },
  {
   "cell_type": "code",
   "execution_count": 7,
   "metadata": {},
   "outputs": [],
   "source": [
    "# Make a new DataFrame equal to the city data to drop all humidity outliers by index.\n",
    "# Passing \"inplace=False\" will make a copy of the city_data DataFrame, which we call \"clean_city_data\".\n"
   ]
  },
  {
   "cell_type": "code",
   "execution_count": null,
   "metadata": {},
   "outputs": [],
   "source": [
    "\n"
   ]
  },
  {
   "cell_type": "markdown",
   "metadata": {},
   "source": [
    "## Plotting the Data\n",
    "* Use proper labeling of the plots using plot titles (including date of analysis) and axes labels.\n",
    "* Save the plotted figures as .pngs."
   ]
  },
  {
   "cell_type": "markdown",
   "metadata": {},
   "source": [
    "## Latitude vs. Temperature Plot"
   ]
  },
  {
   "cell_type": "code",
   "execution_count": 55,
   "metadata": {
    "scrolled": true
   },
   "outputs": [
    {
     "data": {
      "image/png": "[encoded data removed]",
      "text/plain": [
       "<Figure size 432x288 with 1 Axes>"
      ]
     },
     "metadata": {
      "needs_background": "light"
     },
     "output_type": "display_data"
    }
   ],
   "source": [
    "#set the axis\n",
    "xaxis = df[\"Latitude\"]\n",
    "yaxis = df[\"Temperature\"]\n",
    "\n",
    "fig, ax = plt.subplots()\n",
    "ax.scatter(xaxis, yaxis);\n",
    "ax.set(title=\"Latitude by Temperature\",\n",
    "       xlabel=\"Latitude\",\n",
    "       ylabel=\"Temperature (F)\");\n",
    "fig.savefig(\"../output_data/Fig1.png\", dpi=100, facecolor='w')\n"
   ]
  },
  {
   "cell_type": "code",
   "execution_count": 89,
   "metadata": {},
   "outputs": [],
   "source": [
    "# This chart shows that the more extreme the latitudes are (either very low, or very high, the cooler the temperature is. It also proves that latitudes in between 0 and 20 are the warmest areas. \n"
   ]
  },
  {
   "cell_type": "markdown",
   "metadata": {},
   "source": [
    "## Latitude vs. Humidity Plot"
   ]
  },
  {
   "cell_type": "code",
   "execution_count": 57,
   "metadata": {
    "scrolled": true
   },
   "outputs": [
    {
     "data": {
      "image/png": "[encoded data removed]",
      "text/plain": [
       "<Figure size 432x288 with 1 Axes>"
      ]
     },
     "metadata": {
      "needs_background": "light"
     },
     "output_type": "display_data"
    }
   ],
   "source": [
    "# Set the axis \n",
    "xaxis = df[\"Latitude\"]\n",
    "yaxis = df[\"Humidity\"]\n",
    "\n",
    "fig, ax = plt.subplots()\n",
    "ax.scatter(xaxis, yaxis);\n",
    "ax.set(title=\"Latitude by Humidity\",\n",
    "       xlabel=\"Latitude\",\n",
    "       ylabel=\"Humidity)\");\n",
    "fig.savefig(\"../output_data/Fig2.png\", dpi=100, facecolor = 'w')"
   ]
  },
  {
   "cell_type": "code",
   "execution_count": 90,
   "metadata": {},
   "outputs": [],
   "source": [
    "# This chart shows that humidity can be at any level regardless of latitude. It does look like it is both very humid at very low latitudes and very high latitudes"
   ]
  },
  {
   "cell_type": "markdown",
   "metadata": {},
   "source": [
    "## Latitude vs. Cloudiness Plot"
   ]
  },
  {
   "cell_type": "code",
   "execution_count": 59,
   "metadata": {
    "scrolled": true
   },
   "outputs": [
    {
     "data": {
      "image/png": "[encoded data removed]",
      "text/plain": [
       "<Figure size 432x288 with 1 Axes>"
      ]
     },
     "metadata": {
      "needs_background": "light"
     },
     "output_type": "display_data"
    }
   ],
   "source": [
    "# Define axis\n",
    "xaxis = df[\"Latitude\"]\n",
    "yaxis = df[\"Cloudiness\"]\n",
    "\n",
    "# Graph\n",
    "fig, ax = plt.subplots()\n",
    "ax.scatter(xaxis, yaxis);\n",
    "ax.set(title=\"Latitude by Cloudiness\",\n",
    "       xlabel=\"Latitude\",\n",
    "       ylabel=\"Cloudiness\");\n",
    "fig.savefig(\"../output_data/Fig3.png\", dpi=100, facecolor='w')"
   ]
  },
  {
   "cell_type": "code",
   "execution_count": 91,
   "metadata": {},
   "outputs": [],
   "source": [
    "# this shows that regardless of areas it can be very cloudy or not cloudy. IT does however show that the lowest latitudes have the least amount of clouds."
   ]
  },
  {
   "cell_type": "markdown",
   "metadata": {},
   "source": [
    "## Latitude vs. Wind Speed Plot"
   ]
  },
  {
   "cell_type": "code",
   "execution_count": 92,
   "metadata": {},
   "outputs": [
    {
     "data": {
      "image/png": "[encoded data removed]",
      "text/plain": [
       "<Figure size 432x288 with 1 Axes>"
      ]
     },
     "metadata": {
      "needs_background": "light"
     },
     "output_type": "display_data"
    }
   ],
   "source": [
    "\n",
    "xaxis = df[\"Latitude\"]\n",
    "yaxis = df[\"Windspeed\"]\n",
    "\n",
    "# Graph\n",
    "fig, ax = plt.subplots()\n",
    "ax.scatter(xaxis, yaxis);\n",
    "ax.set(title=\"Latitude by Wind Speed\",\n",
    "       xlabel=\"Latitude\",\n",
    "       ylabel=\"Wind Speed\");\n",
    "fig.savefig(\"../output_data/Fig4.png\", dpi=100, facecolor='w')"
   ]
  },
  {
   "cell_type": "code",
   "execution_count": 93,
   "metadata": {},
   "outputs": [],
   "source": [
    "#This shows that wind speeds are seldomly above 20MPS regardless of latitude "
   ]
  },
  {
   "cell_type": "markdown",
   "metadata": {},
   "source": [
    "## Linear Regression"
   ]
  },
  {
   "cell_type": "code",
   "execution_count": 94,
   "metadata": {},
   "outputs": [],
   "source": [
    "#latitude dataframes\n",
    "df_northern = df.loc[df[\"Latitude\"] >= 0, :]\n",
    "df_southern = df.loc[df[\"Latitude\"] < 0, :]"
   ]
  },
  {
   "cell_type": "markdown",
   "metadata": {},
   "source": [
    "####  Northern Hemisphere - Max Temp vs. Latitude Linear Regression"
   ]
  },
  {
   "cell_type": "code",
   "execution_count": 80,
   "metadata": {},
   "outputs": [
    {
     "name": "stdout",
     "output_type": "stream",
     "text": [
      "The r-value is: -0.8160229871816645\n"
     ]
    },
    {
     "data": {
      "image/png": "[encoded data removed]",
      "text/plain": [
       "<Figure size 432x288 with 1 Axes>"
      ]
     },
     "metadata": {
      "needs_background": "light"
     },
     "output_type": "display_data"
    }
   ],
   "source": [
    "\n",
    "xaxis = df_northern[\"Latitude\"]\n",
    "yaxis = df_northern[\"Temperature\"]\n",
    "\n",
    "(slope, intercept, rvalue, pvalue, stderr) = linregress(xaxis, yaxis)\n",
    "regress_values = xaxis * slope + intercept\n",
    "line_eq = \"y = \" + str(round(slope,3)) + \"x + \" + str(round(intercept,3))\n",
    "fig, ax = plt.subplots()\n",
    "ax.scatter(xaxis, yaxis);\n",
    "ax.plot(xaxis, regress_values,\"r-\")\n",
    "ax.annotate(line_eq, (4,40), color=\"red\", fontsize=\"15\")\n",
    "ax.set(title=\"Northern Hemisphere Latitude by Temperature\",\n",
    "       xlabel=\"Latitude\",\n",
    "       ylabel=\"Temperature\");\n",
    "fig.savefig(\"../output_data/Fig5.png\")\n",
    "print(f\"The r-value is: {rvalue}\")"
   ]
  },
  {
   "cell_type": "code",
   "execution_count": null,
   "metadata": {},
   "outputs": [],
   "source": [
    "#This shows that the temperature is hottest the closer it is towards 0 and coolest as the latitudes get higher ."
   ]
  },
  {
   "cell_type": "markdown",
   "metadata": {},
   "source": [
    "####  Southern Hemisphere - Max Temp vs. Latitude Linear Regression"
   ]
  },
  {
   "cell_type": "code",
   "execution_count": 81,
   "metadata": {},
   "outputs": [
    {
     "name": "stdout",
     "output_type": "stream",
     "text": [
      "The r-value is: 0.6939102773192805\n"
     ]
    },
    {
     "data": {
      "image/png": "[encoded data removed]",
      "text/plain": [
       "<Figure size 432x288 with 1 Axes>"
      ]
     },
     "metadata": {
      "needs_background": "light"
     },
     "output_type": "display_data"
    }
   ],
   "source": [
    "xaxis = df_southern[\"Latitude\"]\n",
    "yaxis = df_southern[\"Temperature\"]\n",
    "\n",
    "(slope, intercept, rvalue, pvalue, stderr) = linregress(xaxis, yaxis)\n",
    "regress_values = xaxis * slope + intercept\n",
    "line_eq = \"y = \" + str(round(slope,3)) + \"x + \" + str(round(intercept,3))\n",
    "fig, ax = plt.subplots()\n",
    "ax.scatter(xaxis, yaxis);\n",
    "ax.plot(xaxis, regress_values,\"r-\")\n",
    "ax.annotate(line_eq, (-55,75), color=\"red\", fontsize=\"15\")\n",
    "ax.set(title=\"Northern Hemisphere Latitude by Temperature\",\n",
    "       xlabel=\"Latitude\",\n",
    "       ylabel=\"Temperature\");\n",
    "fig.savefig(\"../output_data/Fig6.png\")\n",
    "print(f\"The r-value is: {rvalue}\")"
   ]
  },
  {
   "cell_type": "code",
   "execution_count": 95,
   "metadata": {},
   "outputs": [],
   "source": [
    "# This chart clearly shows taht the closer we are to the equator, the warmer it is. This is clearly an understandable measure as the areas closest to the equator are considered tropical areas and have the warmest weather. It also shows that the further you are from the equator, the codler it is i.e(North Pole)"
   ]
  },
  {
   "cell_type": "markdown",
   "metadata": {},
   "source": [
    "####  Northern Hemisphere - Humidity (%) vs. Latitude Linear Regression"
   ]
  },
  {
   "cell_type": "code",
   "execution_count": 82,
   "metadata": {
    "scrolled": true
   },
   "outputs": [
    {
     "name": "stdout",
     "output_type": "stream",
     "text": [
      "The r-value is: 0.10768583675753739\n"
     ]
    },
    {
     "data": {
      "image/png": "[encoded data removed]",
      "text/plain": [
       "<Figure size 432x288 with 1 Axes>"
      ]
     },
     "metadata": {
      "needs_background": "light"
     },
     "output_type": "display_data"
    }
   ],
   "source": [
    "xaxis = df_northern[\"Latitude\"]\n",
    "yaxis = df_northern[\"Humidity\"]\n",
    "\n",
    "(slope, intercept, rvalue, pvalue, stderr) = linregress(xaxis, yaxis)\n",
    "regress_values = xaxis * slope + intercept\n",
    "line_eq = \"y = \" + str(round(slope,3)) + \"x + \" + str(round(intercept,3))\n",
    "fig, ax = plt.subplots()\n",
    "ax.scatter(xaxis, yaxis);\n",
    "ax.plot(xaxis, regress_values,\"r-\")\n",
    "ax.annotate(line_eq, (45,10), color=\"red\", fontsize=\"15\")\n",
    "ax.set(title=\"Northern Hemisphere Latitude by Humidity\",\n",
    "       xlabel=\"Latitude\",\n",
    "       ylabel=\"Humidity\");\n",
    "fig.savefig(\"../output_data/Fig7.png\")\n",
    "print(f\"The r-value is: {rvalue}\")"
   ]
  },
  {
   "cell_type": "code",
   "execution_count": 96,
   "metadata": {},
   "outputs": [],
   "source": [
    "# This shows that all places closest to the equator are humid, howevever from latitude 10-70 it may be humid it may also not be. "
   ]
  },
  {
   "cell_type": "markdown",
   "metadata": {},
   "source": [
    "####  Southern Hemisphere - Humidity (%) vs. Latitude Linear Regression"
   ]
  },
  {
   "cell_type": "code",
   "execution_count": 83,
   "metadata": {},
   "outputs": [
    {
     "name": "stdout",
     "output_type": "stream",
     "text": [
      "The r-value is: 0.27138642190280077\n"
     ]
    },
    {
     "data": {
      "image/png": "[encoded data removed]",
      "text/plain": [
       "<Figure size 432x288 with 1 Axes>"
      ]
     },
     "metadata": {
      "needs_background": "light"
     },
     "output_type": "display_data"
    }
   ],
   "source": [
    "xaxis = df_southern[\"Latitude\"]\n",
    "yaxis = df_southern[\"Humidity\"]\n",
    "\n",
    "(slope, intercept, rvalue, pvalue, stderr) = linregress(xaxis, yaxis)\n",
    "regress_values = xaxis * slope + intercept\n",
    "line_eq = \"y = \" + str(round(slope,3)) + \"x + \" + str(round(intercept,3))\n",
    "fig, ax = plt.subplots()\n",
    "ax.scatter(xaxis, yaxis);\n",
    "ax.plot(xaxis, regress_values,\"r-\")\n",
    "ax.annotate(line_eq, (-55,25), color=\"red\", fontsize=\"15\")\n",
    "ax.set(title=\"Southern Hemisphere Latitude by Humidity\",\n",
    "       xlabel=\"Latitude\",\n",
    "       ylabel=\"Humidity\");\n",
    "fig.savefig(\"../output_data/Fig8.png\")\n",
    "print(f\"The r-value is: {rvalue}\")"
   ]
  },
  {
   "cell_type": "code",
   "execution_count": 97,
   "metadata": {},
   "outputs": [],
   "source": [
    "# This shows that humidity is most likeley not effected by the regional location "
   ]
  },
  {
   "cell_type": "markdown",
   "metadata": {},
   "source": [
    "####  Northern Hemisphere - Cloudiness (%) vs. Latitude Linear Regression"
   ]
  },
  {
   "cell_type": "code",
   "execution_count": 84,
   "metadata": {},
   "outputs": [
    {
     "name": "stdout",
     "output_type": "stream",
     "text": [
      "The r-value is: 0.19990493848496838\n"
     ]
    },
    {
     "data": {
      "image/png": "[encoded data removed]",
      "text/plain": [
       "<Figure size 432x288 with 1 Axes>"
      ]
     },
     "metadata": {
      "needs_background": "light"
     },
     "output_type": "display_data"
    }
   ],
   "source": [
    "xaxis = df_northern[\"Latitude\"]\n",
    "yaxis = df_northern[\"Cloudiness\"]\n",
    "\n",
    "(slope, intercept, rvalue, pvalue, stderr) = linregress(xaxis, yaxis)\n",
    "regress_values = xaxis * slope + intercept\n",
    "line_eq = \"y = \" + str(round(slope,3)) + \"x + \" + str(round(intercept,3))\n",
    "fig, ax = plt.subplots()\n",
    "ax.scatter(xaxis, yaxis);\n",
    "ax.plot(xaxis, regress_values,\"r-\")\n",
    "ax.annotate(line_eq, (25,28), color=\"red\", fontsize=\"15\")\n",
    "ax.set(title=\"Northern Hemisphere Latitude by Cloudiness\",\n",
    "       xlabel=\"Latitude\",\n",
    "       ylabel=\"Cloudiness\");\n",
    "fig.savefig(\"../output_data/Fig9.png\")\n",
    "print(f\"The r-value is: {rvalue}\")"
   ]
  },
  {
   "cell_type": "code",
   "execution_count": 99,
   "metadata": {},
   "outputs": [],
   "source": [
    "# This shows that cloudiness may be irrelevant to geographical location. CLouds are controled by Thor "
   ]
  },
  {
   "cell_type": "markdown",
   "metadata": {},
   "source": [
    "####  Southern Hemisphere - Cloudiness (%) vs. Latitude Linear Regression"
   ]
  },
  {
   "cell_type": "code",
   "execution_count": 86,
   "metadata": {
    "scrolled": true
   },
   "outputs": [
    {
     "name": "stdout",
     "output_type": "stream",
     "text": [
      "The r-value is: 0.06091946688822373\n"
     ]
    },
    {
     "data": {
      "image/png": "[encoded data removed]",
      "text/plain": [
       "<Figure size 432x288 with 1 Axes>"
      ]
     },
     "metadata": {
      "needs_background": "light"
     },
     "output_type": "display_data"
    }
   ],
   "source": [
    "xaxis = df_southern[\"Latitude\"]\n",
    "yaxis = df_southern[\"Cloudiness\"]\n",
    "\n",
    "(slope, intercept, rvalue, pvalue, stderr) = linregress(xaxis, yaxis)\n",
    "regress_values = xaxis * slope + intercept\n",
    "line_eq = \"y = \" + str(round(slope,3)) + \"x + \" + str(round(intercept,3))\n",
    "fig, ax = plt.subplots()\n",
    "ax.scatter(xaxis, yaxis);\n",
    "ax.plot(xaxis, regress_values,\"r-\")\n",
    "ax.annotate(line_eq, (-35,51), color=\"red\", fontsize=\"15\")\n",
    "ax.set(title=\"Northern Hemisphere Latitude by Cloudiness\",\n",
    "       xlabel=\"Latitude\",\n",
    "       ylabel=\"Cloudiness\");\n",
    "fig.savefig(\"../output_data/Fig10.png\")\n",
    "print(f\"The r-value is: {rvalue}\")"
   ]
  },
  {
   "cell_type": "code",
   "execution_count": 100,
   "metadata": {},
   "outputs": [],
   "source": [
    "# This shows that clouds are highly volatile. It is either no clouds or very cloudy. "
   ]
  },
  {
   "cell_type": "code",
   "execution_count": 101,
   "metadata": {},
   "outputs": [],
   "source": [
    "####  Northern Hemisphere - Wind Speed (mph) vs. Latitude Linear Regression"
   ]
  },
  {
   "cell_type": "code",
   "execution_count": 87,
   "metadata": {
    "scrolled": true
   },
   "outputs": [
    {
     "name": "stdout",
     "output_type": "stream",
     "text": [
      "The r-value is: 0.017695835746029526\n"
     ]
    },
    {
     "data": {
      "image/png": "[encoded data removed]",
      "text/plain": [
       "<Figure size 432x288 with 1 Axes>"
      ]
     },
     "metadata": {
      "needs_background": "light"
     },
     "output_type": "display_data"
    }
   ],
   "source": [
    "xaxis = df_northern[\"Latitude\"]\n",
    "yaxis = df_northern[\"Windspeed\"]\n",
    "\n",
    "(slope, intercept, rvalue, pvalue, stderr) = linregress(xaxis, yaxis)\n",
    "regress_values = xaxis * slope + intercept\n",
    "line_eq = \"y = \" + str(round(slope,3)) + \"x + \" + str(round(intercept,3))\n",
    "fig, ax = plt.subplots()\n",
    "ax.scatter(xaxis, yaxis);\n",
    "ax.plot(xaxis, regress_values,\"r-\")\n",
    "ax.annotate(line_eq, (40,20), color=\"red\", fontsize=\"15\")\n",
    "ax.set(title=\"Northern Hemisphere Latitude by Windspeed\",\n",
    "       xlabel=\"Latitude\",\n",
    "       ylabel=\"Wind Speed (mph)\");\n",
    "fig.savefig(\"../output_data/Fig11.png\")\n",
    "print(f\"The r-value is: {rvalue}\")"
   ]
  },
  {
   "cell_type": "code",
   "execution_count": 102,
   "metadata": {},
   "outputs": [],
   "source": [
    "# There is a very low correlation between the latitude and windspeed. It is either windy or not. "
   ]
  },
  {
   "cell_type": "markdown",
   "metadata": {},
   "source": [
    "####  Southern Hemisphere - Wind Speed (mph) vs. Latitude Linear Regression"
   ]
  },
  {
   "cell_type": "code",
   "execution_count": 88,
   "metadata": {},
   "outputs": [
    {
     "name": "stdout",
     "output_type": "stream",
     "text": [
      "The r-value is: -0.1316942601813254\n"
     ]
    },
    {
     "data": {
      "image/png": "[encoded data removed]",
      "text/plain": [
       "<Figure size 432x288 with 1 Axes>"
      ]
     },
     "metadata": {
      "needs_background": "light"
     },
     "output_type": "display_data"
    }
   ],
   "source": [
    "xaxis = df_southern[\"Latitude\"]\n",
    "yaxis = df_southern[\"Windspeed\"]\n",
    "\n",
    "# Plot out the graph with the regression line\n",
    "(slope, intercept, rvalue, pvalue, stderr) = linregress(xaxis, yaxis)\n",
    "regress_values = xaxis * slope + intercept\n",
    "line_eq = \"y = \" + str(round(slope,3)) + \"x + \" + str(round(intercept,3))\n",
    "fig, ax = plt.subplots()\n",
    "ax.scatter(xaxis, yaxis);\n",
    "ax.plot(xaxis, regress_values,\"r-\")\n",
    "ax.annotate(line_eq, (-50,18), color=\"red\", fontsize=\"15\")\n",
    "ax.set(title=\"Southern Hemisphere Latitude by Windspeed\",\n",
    "       xlabel=\"Latitude\",\n",
    "       ylabel=\"Wind Speed (mph)\");\n",
    "fig.savefig(\"../output_data/Fig12.png\")\n",
    "print(f\"The r-value is: {rvalue}\")"
   ]
  },
  {
   "cell_type": "code",
   "execution_count": 103,
   "metadata": {},
   "outputs": [],
   "source": [
    "# This show that there is not much of an effect for windspeed and latitude. "
   ]
  },
  {
   "cell_type": "code",
   "execution_count": null,
   "metadata": {},
   "outputs": [],
   "source": []
  }
 ],
 "metadata": {
  "anaconda-cloud": {},
  "kernel_info": {
   "name": "python3"
  },
  "kernelspec": {
   "display_name": "Python 3",
   "language": "python",
   "name": "python3"
  },
  "language_info": {
   "codemirror_mode": {
    "name": "ipython",
    "version": 3
   },
   "file_extension": ".py",
   "mimetype": "text/x-python",
   "name": "python",
   "nbconvert_exporter": "python",
   "pygments_lexer": "ipython3",
   "version": "3.8.5"
  },
  "latex_envs": {
   "LaTeX_envs_menu_present": true,
   "autoclose": false,
   "autocomplete": true,
   "bibliofile": "biblio.bib",
   "cite_by": "apalike",
   "current_citInitial": 1,
   "eqLabelWithNumbers": true,
   "eqNumInitial": 1,
   "hotkeys": {
    "equation": "Ctrl-E",
    "itemize": "Ctrl-I"
   },
   "labels_anchors": false,
   "latex_user_defs": false,
   "report_style_numbering": false,
   "user_envs_cfg": false
  },
  "nteract": {
   "version": "0.12.3"
  }
 },
 "nbformat": 4,
 "nbformat_minor": 2
}
